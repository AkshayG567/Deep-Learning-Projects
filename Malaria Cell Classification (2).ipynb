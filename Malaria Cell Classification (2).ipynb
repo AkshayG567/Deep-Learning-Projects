{
 "cells": [
  {
   "cell_type": "markdown",
   "metadata": {},
   "source": [
    "# Malaria Cell Classification "
   ]
  },
  {
   "cell_type": "code",
   "execution_count": 1,
   "metadata": {},
   "outputs": [],
   "source": [
    "import tensorflow as tf\n",
    "from tensorflow import keras\n",
    "from tensorflow.keras import layers, Sequential \n",
    "import matplotlib.pyplot as plt\n",
    "import cv2\n",
    "import os \n",
    "from PIL import Image\n",
    "import numpy as np \n"
   ]
  },
  {
   "cell_type": "code",
   "execution_count": 2,
   "metadata": {},
   "outputs": [],
   "source": [
    "image_directory = \"C:/Users/Sopan Chakkar/Desktop/Malaria data set 2/\""
   ]
  },
  {
   "cell_type": "code",
   "execution_count": 4,
   "metadata": {},
   "outputs": [],
   "source": [
    "parasitized_images = os.listdir(\"C:/Users/Sopan Chakkar/Desktop/Malaria data set 2/\" +  \"para/\")"
   ]
  },
  {
   "cell_type": "code",
   "execution_count": 17,
   "metadata": {},
   "outputs": [],
   "source": [
    "size = 64\n",
    "list = []\n",
    "lbl = []\n",
    "for x , image_name in enumerate(parasitized_images):\n",
    "    if image_name.split(\".\")[1] == \"png\" :\n",
    "     img = cv2.imread(\"C:/Users/Sopan Chakkar/Desktop/Malaria data set 2/\" + \"para/\" + image_name)\n",
    "     img = Image.fromarray(img,\"RGB\")\n",
    "     img  = img.resize((size,size))\n",
    "     list.append(np.array(img))\n",
    "     lbl.append(0)\n",
    "        \n",
    "        "
   ]
  },
  {
   "cell_type": "code",
   "execution_count": 18,
   "metadata": {},
   "outputs": [
    {
     "data": {
      "text/plain": [
       "500"
      ]
     },
     "execution_count": 18,
     "metadata": {},
     "output_type": "execute_result"
    }
   ],
   "source": [
    "len(list)"
   ]
  },
  {
   "cell_type": "code",
   "execution_count": 19,
   "metadata": {},
   "outputs": [
    {
     "data": {
      "text/plain": [
       "500"
      ]
     },
     "execution_count": 19,
     "metadata": {},
     "output_type": "execute_result"
    }
   ],
   "source": [
    "len(lbl)"
   ]
  },
  {
   "cell_type": "code",
   "execution_count": 21,
   "metadata": {},
   "outputs": [
    {
     "data": {
      "text/plain": [
       "(64, 64, 3)"
      ]
     },
     "execution_count": 21,
     "metadata": {},
     "output_type": "execute_result"
    }
   ],
   "source": [
    "list[0].shape"
   ]
  },
  {
   "cell_type": "code",
   "execution_count": 22,
   "metadata": {},
   "outputs": [
    {
     "data": {
      "text/plain": [
       "(64, 64, 3)"
      ]
     },
     "execution_count": 22,
     "metadata": {},
     "output_type": "execute_result"
    }
   ],
   "source": [
    "list[499].shape"
   ]
  },
  {
   "cell_type": "code",
   "execution_count": 23,
   "metadata": {},
   "outputs": [
    {
     "data": {
      "text/plain": [
       "(64, 64, 3)"
      ]
     },
     "execution_count": 23,
     "metadata": {},
     "output_type": "execute_result"
    }
   ],
   "source": [
    "list[400].shape"
   ]
  },
  {
   "cell_type": "code",
   "execution_count": 26,
   "metadata": {},
   "outputs": [],
   "source": [
    "img_directory = \"C:/Users/Sopan Chakkar/Desktop/Malaria data set 2/\""
   ]
  },
  {
   "cell_type": "code",
   "execution_count": 28,
   "metadata": {},
   "outputs": [],
   "source": [
    "uninfect = os.listdir(\"C:/Users/Sopan Chakkar/Desktop/Malaria data set 2/\" + \"uninfected/\")"
   ]
  },
  {
   "cell_type": "code",
   "execution_count": 29,
   "metadata": {},
   "outputs": [],
   "source": [
    "for y , image_name2 in enumerate(uninfect):\n",
    "    if image_name2.split(\".\")[1] == \"png\" :\n",
    "     img1 = cv2.imread(\"C:/Users/Sopan Chakkar/Desktop/Malaria data set 2/\" + \"uninfected/\" + image_name2)\n",
    "     img1 = Image.fromarray(img1,\"RGB\")\n",
    "     img1  = img1.resize((size,size))\n",
    "     list.append(np.array(img1))\n",
    "     lbl.append(1)"
   ]
  },
  {
   "cell_type": "code",
   "execution_count": 30,
   "metadata": {},
   "outputs": [
    {
     "data": {
      "text/plain": [
       "1000"
      ]
     },
     "execution_count": 30,
     "metadata": {},
     "output_type": "execute_result"
    }
   ],
   "source": [
    "len(list)"
   ]
  },
  {
   "cell_type": "code",
   "execution_count": 31,
   "metadata": {},
   "outputs": [
    {
     "data": {
      "text/plain": [
       "1000"
      ]
     },
     "execution_count": 31,
     "metadata": {},
     "output_type": "execute_result"
    }
   ],
   "source": [
    "len(lbl)"
   ]
  },
  {
   "cell_type": "code",
   "execution_count": null,
   "metadata": {},
   "outputs": [],
   "source": []
  },
  {
   "cell_type": "code",
   "execution_count": 34,
   "metadata": {},
   "outputs": [],
   "source": [
    "input_shape = (size , size , 3)\n",
    "int1 = layers.Input(shape = input_shape)\n",
    "cnn1 = layers.Conv2D(32,(3,3),activation = \"relu\",padding = \"same\")(int1)\n",
    "pool1 = layers.MaxPooling2D(pool_size = (2,2))(cnn1)\n",
    "nom  = layers.BatchNormalization(axis = -1)(pool1)\n",
    "drop = layers.Dropout(0.20)(nom)\n"
   ]
  },
  {
   "cell_type": "code",
   "execution_count": 37,
   "metadata": {},
   "outputs": [],
   "source": [
    "\n",
    "cnn2= layers.Conv2D(32,(3,3),activation = \"relu\",padding = \"same\")(drop)\n",
    "pool2 = layers.MaxPooling2D(pool_size = (2,2))(cnn2)\n",
    "nom1  = layers.BatchNormalization(axis = -1)(pool2)\n",
    "drop1 = layers.Dropout(0.20)(nom1)\n"
   ]
  },
  {
   "cell_type": "code",
   "execution_count": 38,
   "metadata": {},
   "outputs": [],
   "source": [
    "flat = layers.Flatten()(drop1)"
   ]
  },
  {
   "cell_type": "code",
   "execution_count": 40,
   "metadata": {},
   "outputs": [],
   "source": [
    "hidden1 = layers.Dense(512, activation  = \"relu\")(flat)\n",
    "nom3 = layers.BatchNormalization(axis  = -1)(hidden1)\n",
    "drop2 = layers.Dropout(0.20)(nom3)"
   ]
  },
  {
   "cell_type": "code",
   "execution_count": 41,
   "metadata": {},
   "outputs": [],
   "source": [
    "hidden2 = layers.Dense(256, activation  = \"relu\")(drop2)\n",
    "nom4 = layers.BatchNormalization(axis  = -1)(hidden2)\n",
    "drop2 = layers.Dropout(0.20)(nom4)"
   ]
  },
  {
   "cell_type": "code",
   "execution_count": 42,
   "metadata": {},
   "outputs": [],
   "source": [
    "out = layers.Dense(2 , activation = \"softmax\")(drop2)\n"
   ]
  },
  {
   "cell_type": "code",
   "execution_count": 44,
   "metadata": {},
   "outputs": [],
   "source": [
    "model  = keras.Model(inputs = int1 , outputs = out)"
   ]
  },
  {
   "cell_type": "code",
   "execution_count": 45,
   "metadata": {},
   "outputs": [
    {
     "name": "stdout",
     "output_type": "stream",
     "text": [
      "Model: \"model\"\n",
      "_________________________________________________________________\n",
      "Layer (type)                 Output Shape              Param #   \n",
      "=================================================================\n",
      "input_3 (InputLayer)         [(None, 64, 64, 3)]       0         \n",
      "_________________________________________________________________\n",
      "conv2d_2 (Conv2D)            (None, 64, 64, 32)        896       \n",
      "_________________________________________________________________\n",
      "max_pooling2d_2 (MaxPooling2 (None, 32, 32, 32)        0         \n",
      "_________________________________________________________________\n",
      "batch_normalization (BatchNo (None, 32, 32, 32)        128       \n",
      "_________________________________________________________________\n",
      "dropout (Dropout)            (None, 32, 32, 32)        0         \n",
      "_________________________________________________________________\n",
      "conv2d_4 (Conv2D)            (None, 32, 32, 32)        9248      \n",
      "_________________________________________________________________\n",
      "max_pooling2d_4 (MaxPooling2 (None, 16, 16, 32)        0         \n",
      "_________________________________________________________________\n",
      "batch_normalization_1 (Batch (None, 16, 16, 32)        128       \n",
      "_________________________________________________________________\n",
      "dropout_1 (Dropout)          (None, 16, 16, 32)        0         \n",
      "_________________________________________________________________\n",
      "flatten (Flatten)            (None, 8192)              0         \n",
      "_________________________________________________________________\n",
      "dense_1 (Dense)              (None, 512)               4194816   \n",
      "_________________________________________________________________\n",
      "batch_normalization_2 (Batch (None, 512)               2048      \n",
      "_________________________________________________________________\n",
      "dropout_2 (Dropout)          (None, 512)               0         \n",
      "_________________________________________________________________\n",
      "dense_2 (Dense)              (None, 256)               131328    \n",
      "_________________________________________________________________\n",
      "batch_normalization_3 (Batch (None, 256)               1024      \n",
      "_________________________________________________________________\n",
      "dropout_3 (Dropout)          (None, 256)               0         \n",
      "_________________________________________________________________\n",
      "dense_3 (Dense)              (None, 2)                 514       \n",
      "=================================================================\n",
      "Total params: 4,340,130\n",
      "Trainable params: 4,338,466\n",
      "Non-trainable params: 1,664\n",
      "_________________________________________________________________\n"
     ]
    }
   ],
   "source": [
    "model.summary()"
   ]
  },
  {
   "cell_type": "code",
   "execution_count": 49,
   "metadata": {},
   "outputs": [],
   "source": [
    "lbl_cat  = keras.utils.to_categorical(np.array(lbl))"
   ]
  },
  {
   "cell_type": "code",
   "execution_count": 53,
   "metadata": {},
   "outputs": [
    {
     "data": {
      "text/plain": [
       "200"
      ]
     },
     "execution_count": 53,
     "metadata": {},
     "output_type": "execute_result"
    }
   ],
   "source": [
    "from sklearn.model_selection import train_test_split\n",
    "x_train , x_test , y_train , y_test = train_test_split(list , lbl_cat , test_size = 0.20 , random_state = 0 )\n",
    "len(x_train)\n",
    "len(x_test)"
   ]
  },
  {
   "cell_type": "code",
   "execution_count": 59,
   "metadata": {},
   "outputs": [],
   "source": [
    "model.compile(optimizer = \"adam\" , loss = \"categorical_crossentropy\" ,metrics = [\"accuracy\"])"
   ]
  },
  {
   "cell_type": "code",
   "execution_count": 54,
   "metadata": {},
   "outputs": [
    {
     "name": "stdout",
     "output_type": "stream",
     "text": [
      "Model: \"model\"\n",
      "_________________________________________________________________\n",
      "Layer (type)                 Output Shape              Param #   \n",
      "=================================================================\n",
      "input_3 (InputLayer)         [(None, 64, 64, 3)]       0         \n",
      "_________________________________________________________________\n",
      "conv2d_2 (Conv2D)            (None, 64, 64, 32)        896       \n",
      "_________________________________________________________________\n",
      "max_pooling2d_2 (MaxPooling2 (None, 32, 32, 32)        0         \n",
      "_________________________________________________________________\n",
      "batch_normalization (BatchNo (None, 32, 32, 32)        128       \n",
      "_________________________________________________________________\n",
      "dropout (Dropout)            (None, 32, 32, 32)        0         \n",
      "_________________________________________________________________\n",
      "conv2d_4 (Conv2D)            (None, 32, 32, 32)        9248      \n",
      "_________________________________________________________________\n",
      "max_pooling2d_4 (MaxPooling2 (None, 16, 16, 32)        0         \n",
      "_________________________________________________________________\n",
      "batch_normalization_1 (Batch (None, 16, 16, 32)        128       \n",
      "_________________________________________________________________\n",
      "dropout_1 (Dropout)          (None, 16, 16, 32)        0         \n",
      "_________________________________________________________________\n",
      "flatten (Flatten)            (None, 8192)              0         \n",
      "_________________________________________________________________\n",
      "dense_1 (Dense)              (None, 512)               4194816   \n",
      "_________________________________________________________________\n",
      "batch_normalization_2 (Batch (None, 512)               2048      \n",
      "_________________________________________________________________\n",
      "dropout_2 (Dropout)          (None, 512)               0         \n",
      "_________________________________________________________________\n",
      "dense_2 (Dense)              (None, 256)               131328    \n",
      "_________________________________________________________________\n",
      "batch_normalization_3 (Batch (None, 256)               1024      \n",
      "_________________________________________________________________\n",
      "dropout_3 (Dropout)          (None, 256)               0         \n",
      "_________________________________________________________________\n",
      "dense_3 (Dense)              (None, 2)                 514       \n",
      "=================================================================\n",
      "Total params: 4,340,130\n",
      "Trainable params: 4,338,466\n",
      "Non-trainable params: 1,664\n",
      "_________________________________________________________________\n"
     ]
    }
   ],
   "source": [
    "model.summary()"
   ]
  },
  {
   "cell_type": "code",
   "execution_count": 64,
   "metadata": {},
   "outputs": [
    {
     "name": "stdout",
     "output_type": "stream",
     "text": [
      "Epoch 1/15\n",
      "23/23 [==============================] - 5s 207ms/step - loss: 0.0396 - accuracy: 0.9875 - val_loss: 1.4113 - val_accuracy: 0.7000\n",
      "Epoch 2/15\n",
      "23/23 [==============================] - 5s 200ms/step - loss: 0.0446 - accuracy: 0.9847 - val_loss: 1.0639 - val_accuracy: 0.7375\n",
      "Epoch 3/15\n",
      "23/23 [==============================] - 5s 198ms/step - loss: 0.0645 - accuracy: 0.9764 - val_loss: 1.4589 - val_accuracy: 0.7750\n",
      "Epoch 4/15\n",
      "23/23 [==============================] - 5s 196ms/step - loss: 0.0461 - accuracy: 0.9819 - val_loss: 1.4447 - val_accuracy: 0.7875\n",
      "Epoch 5/15\n",
      "23/23 [==============================] - 4s 194ms/step - loss: 0.0533 - accuracy: 0.9833 - val_loss: 1.5580 - val_accuracy: 0.6875\n",
      "Epoch 6/15\n",
      "23/23 [==============================] - 5s 198ms/step - loss: 0.0720 - accuracy: 0.9736 - val_loss: 1.5254 - val_accuracy: 0.6875\n",
      "Epoch 7/15\n",
      "23/23 [==============================] - 5s 196ms/step - loss: 0.0511 - accuracy: 0.9833 - val_loss: 1.4469 - val_accuracy: 0.7000\n",
      "Epoch 8/15\n",
      "23/23 [==============================] - 5s 196ms/step - loss: 0.0282 - accuracy: 0.9875 - val_loss: 2.2450 - val_accuracy: 0.6750\n",
      "Epoch 9/15\n",
      "23/23 [==============================] - 5s 198ms/step - loss: 0.0450 - accuracy: 0.9847 - val_loss: 1.7165 - val_accuracy: 0.7750\n",
      "Epoch 10/15\n",
      "23/23 [==============================] - 5s 208ms/step - loss: 0.0212 - accuracy: 0.9917 - val_loss: 1.5371 - val_accuracy: 0.7125\n",
      "Epoch 11/15\n",
      "23/23 [==============================] - 4s 195ms/step - loss: 0.0283 - accuracy: 0.9889 - val_loss: 0.5544 - val_accuracy: 0.8625\n",
      "Epoch 12/15\n",
      "23/23 [==============================] - 5s 199ms/step - loss: 0.0494 - accuracy: 0.9833 - val_loss: 1.6191 - val_accuracy: 0.7250\n",
      "Epoch 13/15\n",
      "23/23 [==============================] - 5s 199ms/step - loss: 0.0580 - accuracy: 0.9819 - val_loss: 2.8339 - val_accuracy: 0.6375\n",
      "Epoch 14/15\n",
      "23/23 [==============================] - 5s 205ms/step - loss: 0.0708 - accuracy: 0.9736 - val_loss: 2.1213 - val_accuracy: 0.8000\n",
      "Epoch 15/15\n",
      "23/23 [==============================] - 5s 201ms/step - loss: 0.0336 - accuracy: 0.9903 - val_loss: 1.0517 - val_accuracy: 0.8250\n"
     ]
    }
   ],
   "source": [
    "history = model.fit(np.array(x_train),np.array(y_train),epochs = 15 , validation_split = 0.1 , verbose = 1 , shuffle = True)"
   ]
  },
  {
   "cell_type": "code",
   "execution_count": 65,
   "metadata": {},
   "outputs": [
    {
     "name": "stdout",
     "output_type": "stream",
     "text": [
      "7/7 [==============================] - 0s 35ms/step - loss: 0.4882 - accuracy: 0.8750\n"
     ]
    },
    {
     "data": {
      "text/plain": [
       "87.5"
      ]
     },
     "execution_count": 65,
     "metadata": {},
     "output_type": "execute_result"
    }
   ],
   "source": [
    "model.evaluate(np.array(x_test),np.array(y_test))[1]*100"
   ]
  },
  {
   "cell_type": "code",
   "execution_count": null,
   "metadata": {},
   "outputs": [],
   "source": []
  }
 ],
 "metadata": {
  "kernelspec": {
   "display_name": "Python 3",
   "language": "python",
   "name": "python3"
  },
  "language_info": {
   "codemirror_mode": {
    "name": "ipython",
    "version": 3
   },
   "file_extension": ".py",
   "mimetype": "text/x-python",
   "name": "python",
   "nbconvert_exporter": "python",
   "pygments_lexer": "ipython3",
   "version": "3.8.8"
  }
 },
 "nbformat": 4,
 "nbformat_minor": 4
}
